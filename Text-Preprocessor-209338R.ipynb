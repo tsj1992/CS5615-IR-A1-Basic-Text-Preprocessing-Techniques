{
 "cells": [
  {
   "cell_type": "markdown",
   "metadata": {},
   "source": [
    "# CS5615 - Information Retrieval - Assignment 1 - Basic Text Preprocessing Techniques"
   ]
  },
  {
   "cell_type": "markdown",
   "metadata": {},
   "source": [
    "#### Author - KATS JAYATHILAKA (209338R)"
   ]
  },
  {
   "cell_type": "markdown",
   "metadata": {},
   "source": [
    "### Reading the text file"
   ]
  },
  {
   "cell_type": "code",
   "execution_count": 23,
   "metadata": {},
   "outputs": [],
   "source": [
    "datafile = open(\"assignment_data.txt\")\n",
    "raw_data = datafile.read()"
   ]
  },
  {
   "cell_type": "markdown",
   "metadata": {},
   "source": [
    "### Converting all letters to lowercase"
   ]
  },
  {
   "cell_type": "code",
   "execution_count": 24,
   "metadata": {
    "collapsed": true
   },
   "outputs": [
    {
     "data": {
      "text/plain": [
       "'** student course feedback***\\n\\nhonestly last seven lectures are good. lectures are understandable. lecture slides are very useful to self-study also. the given opportunity to ask questions from the lecturer is appreciative. \\n\"good :) \\n<br />please do recap at class starting it&#039;s better for us.\\n<br />sometimes teaching speed is very high.\\n<br />\\n<br />thanks ! :)\\n<br /> \"\\nthe lectures are good..but a bit speed.a in class working activity is a must one.so please take another hour in thursdays madame.\\n\"\\n<br />we can hear your voice clearly and can understand the things you teach. presentation slides also good source to refer . lf you can do more example questions within the classroom and it will help us to understand the principles well. \\n<br />\"\\nlectures was well structured and well organized. it was easy to understand. lecture slides and labs were also well organized. \\nlectures were good. understandable. \\nthe lecture slides were well organized and the examples done in the class helped a lot to learn this new language and also the principles of oop. motivated to well. would have been better if we discussed more about the solutions of coding exercisers.   \\ni think i learned a lot from the codes you write in the board. when i compare my codes with yours i can learn about my mistakes and good coding practices that i should follow. there fore i think it would be great if we can discuss more examples in the class.\\nmadam explained  the oop concepts clearly with examples.lectures were interesting.we want more scenario examples and answers with explanations in future.\\ni satisfy about first 7 lectures. that way of teaching is really good for coming lectures too.\\nlectuers are very good. take good effort to make undersatand every student in the room. very helpfull. \\ni was able to obtain a clear picture about oop and its concepts. \\n\"lecture slides, explanations were very clear.\\n<br />it&#039;s very good to letting ask questions and explain again with suitable examples.\\n<br />sometimes, some codes on white board were unclear at the back.\\n<br />overall very good!!!\\n<br />\"\\nthe lectures were good and clear. and they weren&#039;t too fast. writing code was somewhat confusing because i didn&#039;t know java before. \\nactually teaching is very good and can understand easily the concepts by examples which are given in the class.it will be more helpful if provide solved questions as well!. thankyou\\n\\n=======================================\\n**twitter data***\\n\\nreminds me of liberal immigration fraudster monsef avoiding deportation from canada. #cdnpoli #lpc #cpcldr��_ https://t.co/zozose1cqq\\n#immigration #integration #canada https://t.co/m5ckgyvv8f\\nwe want controlled immigration that contributes positively to the uk economy. same as australia &amp; canada. https://t.co/99myliuoes\\nis the new manitoba immigration fee a head tax? https://t.co/lsg7c3vle9\\ncanada immigration profit influence modernistic delhi yet abhinav: xkofy https://t.co/becgusy2i6\\ncanada immigration minister to ���substantially increase  immigration numbers https://t.co/nefw30mraa https://t.co/cyi867pzrv\\nm��me les #usa=pays d\\'immigration par excellence contr��le rigoureusement l\\'immigration et acc��s �� la #greencard!��_ https://t.co/ihpvhw2bag\\n@shawhelp what changes should be made to canada\\'s immigration laws due to the influx of immigration and violence?\\nl��immigration irr��guli��re au canada d��cortiqu��e en 5 questions https://t.co/f4uto5a7zf\\nl\\'immigration irr��guli��re au canada d��cortiqu��e en 5 questions - https://t.co/uibsezoqas https://t.co/j77devjoix https://t.co/xxdeig7dbu\\nwill media ask the liberals if they actually have a solid plan for canada _��_�_?? from my view -- immigration out of c��_ https://t.co/yagwmz8ecp\\ndan murray of��immigration watch canada is xenophobic racist fear-mongering liar #racism #canada #cdnpoli #hatecrime��_ https://t.co/kwz3csvyxm\\nle canada lance une vaste campagne d\\'immigration pour faire face �� son besoin de main d\\'��uvre https://t.co/kxdfmgtzzn\\nl��#immigration irr��guli��re au #canada d��cortiqu��e en 5��questions https://t.co/s3hu1okkig\\n@canadidly i\\'ve read the immigration laws of canada much stricter than the us\\ncanada immigration website traffic surges and crashes in wake of trump #fasttraffic,#sitetraffic,#website,#traffic https://t.co/zrlj26jnkc\\nmr know-all of canada immigration https://t.co/wtqk4qdiki\\nmove to canada @ladymadonna___ oh, immigration rules, you can\\'t... https://t.co/5lievho7a4\\n#onthisday annette toft becomes canada\\'s 2 millionth immigrant since 1945. do you know your family\\'s immigration st��_ https://t.co/uvruw8er1b\\n.@theeconomist profiles canada\\'s open immigration policies &amp; how they contribute to our economic success:��_ https://t.co/4k84ee8y63\\nhundreds may lose canadian citizenship, resident status because of one corrupt immigration consultant https://t.co/x2ifo0exi2\\nimmigration for canada without india: an compassionate handle: deyfy\\n\"#jamaican #immigrants #canada\\n\\nhttps://t.co/vcmfygadr5\\n\\n#statistics #immigration\"\\nmexican visa lift expected to cost canada $262m over a decade https://t.co/9i72frhtij\\nare people still moving to #canada ??? oh that\\'s right, they have real immigration laws and it\\'s��_ https://t.co/0c5obfmxlg\\nhere are more details on the richmond, b.c. immigration consultant sunny wang who was sentenced to 7 years in... https://t.co/yxh5w53sro\\ni added a video to a @youtube playlist https://t.co/cneywn40x3 funny talking of haryanavi jat with canada immigration girl agent\\nmexicans can now travel visa-free to canada https://t.co/ec3xhoro2s https://t.co/rqrr5nebcg\\nl��immigration irr��guli��re au canada d��cortiqu��e en 5��questions https://t.co/dkpukywmak\\n@sweetnessshawnb hes the pos that ramped up immigration for canada, among other globalist policies.\\ncanada lifted visa requirements to mexico as of dec 1, 2016. thoughts? #visa #immigration\\n@huffingtonpost people keep praising canada and canada has way stricter immigration laws then us they willl boot your liberal american ass\\n\\n======================================================\\n**research paper**\\nneural network models have shown their promising opportunities for multi-task\\nlearning, which focus on learning the shared layers to extract the common and\\ntask-invariant features. however, in most existing approaches, the extracted shared\\nfeatures are prone to be contaminated by task-specific features or the noise brought\\nby other tasks. in this paper, we propose an adversarial multi-task learning framework,\\nalleviating the shared and private latent feature spaces from interfering with\\neach other. we conduct extensive experiments on 16 different text classification\\ntasks, which demonstrates the benefits of our approach. besides, we show that the\\nshared knowledge learned by our proposed model can be regarded as off-the-shelf\\nknowledge and easily transferred to new tasks.\\n\\nmulti-task learning is an effective approach to improve the performance of a single task with\\nthe help of other related tasks. recently, neural-based models for multi-task learning have become\\nvery popular, ranging from computer vision (misra et al., 2016; zhang et al., 2014) to natural\\nlanguage processing (collobert andweston, 2008; luong et al., 2015), since they provide a convenient\\nway of combining information from multiple tasks.\\nhowever, most existing work on multi-task learning (liu et al., 2016c,b) attempts to divide the\\nfeatures of different tasks into private and shared spaces, merely based on whether parameters of some components should be shared. as shown in figure 1-(a), the general shared-private model introduces\\ntwo feature spaces for any task: one is used to store task-dependent features, the other is\\nused to capture shared features. the major limitation of this framework is that the shared feature\\nspace could contain some unnecessary task-specific features, while some sharable features\\ncould also be mixed in private space, suffering from feature redundancy.\\ntaking the following two sentences as examples, which are extracted from two different sentiment\\nclassification tasks: movie reviews and baby products reviews.\\nthe infantile cart is simple and easy to use. this kind of humour is infantile and boring.\\nthe word �infantile� indicates negative sentiment in movie task while it is neutral in baby task.\\nhowever, the general shared-private model could place the task-specific word �infantile� in a\\nshared space, leaving potential hazards for other tasks. additionally, the capacity of shared space\\ncould also be wasted by some unnecessary features.\\nto address this problem, in this paper we propose an adversarial multi-task framework, in\\nwhich the shared and private feature spaces are in herently disjoint by introducing orthogonality constraints.specifically, we design a generic shared private learning framework to model the text sequence.'"
      ]
     },
     "execution_count": 24,
     "metadata": {},
     "output_type": "execute_result"
    }
   ],
   "source": [
    "lc_data = raw_data.lower()\n",
    "lc_data"
   ]
  },
  {
   "cell_type": "markdown",
   "metadata": {},
   "source": [
    "### Removing all numbers"
   ]
  },
  {
   "cell_type": "code",
   "execution_count": 25,
   "metadata": {
    "collapsed": true
   },
   "outputs": [
    {
     "data": {
      "text/plain": [
       "'** student course feedback***\\n\\nhonestly last seven lectures are good. lectures are understandable. lecture slides are very useful to self-study also. the given opportunity to ask questions from the lecturer is appreciative. \\n\"good :) \\n<br />please do recap at class starting it&#;s better for us.\\n<br />sometimes teaching speed is very high.\\n<br />\\n<br />thanks ! :)\\n<br /> \"\\nthe lectures are good..but a bit speed.a in class working activity is a must one.so please take another hour in thursdays madame.\\n\"\\n<br />we can hear your voice clearly and can understand the things you teach. presentation slides also good source to refer . lf you can do more example questions within the classroom and it will help us to understand the principles well. \\n<br />\"\\nlectures was well structured and well organized. it was easy to understand. lecture slides and labs were also well organized. \\nlectures were good. understandable. \\nthe lecture slides were well organized and the examples done in the class helped a lot to learn this new language and also the principles of oop. motivated to well. would have been better if we discussed more about the solutions of coding exercisers.   \\ni think i learned a lot from the codes you write in the board. when i compare my codes with yours i can learn about my mistakes and good coding practices that i should follow. there fore i think it would be great if we can discuss more examples in the class.\\nmadam explained  the oop concepts clearly with examples.lectures were interesting.we want more scenario examples and answers with explanations in future.\\ni satisfy about first  lectures. that way of teaching is really good for coming lectures too.\\nlectuers are very good. take good effort to make undersatand every student in the room. very helpfull. \\ni was able to obtain a clear picture about oop and its concepts. \\n\"lecture slides, explanations were very clear.\\n<br />it&#;s very good to letting ask questions and explain again with suitable examples.\\n<br />sometimes, some codes on white board were unclear at the back.\\n<br />overall very good!!!\\n<br />\"\\nthe lectures were good and clear. and they weren&#;t too fast. writing code was somewhat confusing because i didn&#;t know java before. \\nactually teaching is very good and can understand easily the concepts by examples which are given in the class.it will be more helpful if provide solved questions as well!. thankyou\\n\\n=======================================\\n**twitter data***\\n\\nreminds me of liberal immigration fraudster monsef avoiding deportation from canada. #cdnpoli #lpc #cpcldr��_ https://t.co/zozosecqq\\n#immigration #integration #canada https://t.co/mckgyvvf\\nwe want controlled immigration that contributes positively to the uk economy. same as australia &amp; canada. https://t.co/myliuoes\\nis the new manitoba immigration fee a head tax? https://t.co/lsgcvle\\ncanada immigration profit influence modernistic delhi yet abhinav: xkofy https://t.co/becgusyi\\ncanada immigration minister to ���substantially increase  immigration numbers https://t.co/nefwmraa https://t.co/cyipzrv\\nm��me les #usa=pays d\\'immigration par excellence contr��le rigoureusement l\\'immigration et acc��s �� la #greencard!��_ https://t.co/ihpvhwbag\\n@shawhelp what changes should be made to canada\\'s immigration laws due to the influx of immigration and violence?\\nl��immigration irr��guli��re au canada d��cortiqu��e en  questions https://t.co/futoazf\\nl\\'immigration irr��guli��re au canada d��cortiqu��e en  questions - https://t.co/uibsezoqas https://t.co/jdevjoix https://t.co/xxdeigdbu\\nwill media ask the liberals if they actually have a solid plan for canada _��_�_?? from my view -- immigration out of c��_ https://t.co/yagwmzecp\\ndan murray of��immigration watch canada is xenophobic racist fear-mongering liar #racism #canada #cdnpoli #hatecrime��_ https://t.co/kwzcsvyxm\\nle canada lance une vaste campagne d\\'immigration pour faire face �� son besoin de main d\\'��uvre https://t.co/kxdfmgtzzn\\nl��#immigration irr��guli��re au #canada d��cortiqu��e en ��questions https://t.co/shuokkig\\n@canadidly i\\'ve read the immigration laws of canada much stricter than the us\\ncanada immigration website traffic surges and crashes in wake of trump #fasttraffic,#sitetraffic,#website,#traffic https://t.co/zrljjnkc\\nmr know-all of canada immigration https://t.co/wtqkqdiki\\nmove to canada @ladymadonna___ oh, immigration rules, you can\\'t... https://t.co/lievhoa\\n#onthisday annette toft becomes canada\\'s  millionth immigrant since . do you know your family\\'s immigration st��_ https://t.co/uvruwerb\\n.@theeconomist profiles canada\\'s open immigration policies &amp; how they contribute to our economic success:��_ https://t.co/keey\\nhundreds may lose canadian citizenship, resident status because of one corrupt immigration consultant https://t.co/xifoexi\\nimmigration for canada without india: an compassionate handle: deyfy\\n\"#jamaican #immigrants #canada\\n\\nhttps://t.co/vcmfygadr\\n\\n#statistics #immigration\"\\nmexican visa lift expected to cost canada $m over a decade https://t.co/ifrhtij\\nare people still moving to #canada ??? oh that\\'s right, they have real immigration laws and it\\'s��_ https://t.co/cobfmxlg\\nhere are more details on the richmond, b.c. immigration consultant sunny wang who was sentenced to  years in... https://t.co/yxhwsro\\ni added a video to a @youtube playlist https://t.co/cneywnx funny talking of haryanavi jat with canada immigration girl agent\\nmexicans can now travel visa-free to canada https://t.co/ecxhoros https://t.co/rqrrnebcg\\nl��immigration irr��guli��re au canada d��cortiqu��e en ��questions https://t.co/dkpukywmak\\n@sweetnessshawnb hes the pos that ramped up immigration for canada, among other globalist policies.\\ncanada lifted visa requirements to mexico as of dec , . thoughts? #visa #immigration\\n@huffingtonpost people keep praising canada and canada has way stricter immigration laws then us they willl boot your liberal american ass\\n\\n======================================================\\n**research paper**\\nneural network models have shown their promising opportunities for multi-task\\nlearning, which focus on learning the shared layers to extract the common and\\ntask-invariant features. however, in most existing approaches, the extracted shared\\nfeatures are prone to be contaminated by task-specific features or the noise brought\\nby other tasks. in this paper, we propose an adversarial multi-task learning framework,\\nalleviating the shared and private latent feature spaces from interfering with\\neach other. we conduct extensive experiments on  different text classification\\ntasks, which demonstrates the benefits of our approach. besides, we show that the\\nshared knowledge learned by our proposed model can be regarded as off-the-shelf\\nknowledge and easily transferred to new tasks.\\n\\nmulti-task learning is an effective approach to improve the performance of a single task with\\nthe help of other related tasks. recently, neural-based models for multi-task learning have become\\nvery popular, ranging from computer vision (misra et al., ; zhang et al., ) to natural\\nlanguage processing (collobert andweston, ; luong et al., ), since they provide a convenient\\nway of combining information from multiple tasks.\\nhowever, most existing work on multi-task learning (liu et al., c,b) attempts to divide the\\nfeatures of different tasks into private and shared spaces, merely based on whether parameters of some components should be shared. as shown in figure -(a), the general shared-private model introduces\\ntwo feature spaces for any task: one is used to store task-dependent features, the other is\\nused to capture shared features. the major limitation of this framework is that the shared feature\\nspace could contain some unnecessary task-specific features, while some sharable features\\ncould also be mixed in private space, suffering from feature redundancy.\\ntaking the following two sentences as examples, which are extracted from two different sentiment\\nclassification tasks: movie reviews and baby products reviews.\\nthe infantile cart is simple and easy to use. this kind of humour is infantile and boring.\\nthe word �infantile� indicates negative sentiment in movie task while it is neutral in baby task.\\nhowever, the general shared-private model could place the task-specific word �infantile� in a\\nshared space, leaving potential hazards for other tasks. additionally, the capacity of shared space\\ncould also be wasted by some unnecessary features.\\nto address this problem, in this paper we propose an adversarial multi-task framework, in\\nwhich the shared and private feature spaces are in herently disjoint by introducing orthogonality constraints.specifically, we design a generic shared private learning framework to model the text sequence.'"
      ]
     },
     "execution_count": 25,
     "metadata": {},
     "output_type": "execute_result"
    }
   ],
   "source": [
    "import re\n",
    "nonum_data = re.sub(r'\\d+', '', lc_data)\n",
    "nonum_data"
   ]
  },
  {
   "cell_type": "markdown",
   "metadata": {},
   "source": [
    "### Removing all punctuations"
   ]
  },
  {
   "cell_type": "code",
   "execution_count": 42,
   "metadata": {
    "collapsed": true
   },
   "outputs": [
    {
     "data": {
      "text/plain": [
       "' student course feedback\\n\\nhonestly last seven lectures are good lectures are understandable lecture slides are very useful to selfstudy also the given opportunity to ask questions from the lecturer is appreciative \\ngood  \\nbr please do recap at class starting its better for us\\nbr sometimes teaching speed is very high\\nbr \\nbr thanks  \\nbr  \\nthe lectures are goodbut a bit speeda in class working activity is a must oneso please take another hour in thursdays madame\\n\\nbr we can hear your voice clearly and can understand the things you teach presentation slides also good source to refer  lf you can do more example questions within the classroom and it will help us to understand the principles well \\nbr \\nlectures was well structured and well organized it was easy to understand lecture slides and labs were also well organized \\nlectures were good understandable \\nthe lecture slides were well organized and the examples done in the class helped a lot to learn this new language and also the principles of oop motivated to well would have been better if we discussed more about the solutions of coding exercisers   \\ni think i learned a lot from the codes you write in the board when i compare my codes with yours i can learn about my mistakes and good coding practices that i should follow there fore i think it would be great if we can discuss more examples in the class\\nmadam explained  the oop concepts clearly with exampleslectures were interestingwe want more scenario examples and answers with explanations in future\\ni satisfy about first  lectures that way of teaching is really good for coming lectures too\\nlectuers are very good take good effort to make undersatand every student in the room very helpfull \\ni was able to obtain a clear picture about oop and its concepts \\nlecture slides explanations were very clear\\nbr its very good to letting ask questions and explain again with suitable examples\\nbr sometimes some codes on white board were unclear at the back\\nbr overall very good\\nbr \\nthe lectures were good and clear and they werent too fast writing code was somewhat confusing because i didnt know java before \\nactually teaching is very good and can understand easily the concepts by examples which are given in the classit will be more helpful if provide solved questions as well thankyou\\n\\n\\ntwitter data\\n\\nreminds me of liberal immigration fraudster monsef avoiding deportation from canada cdnpoli lpc cpcldr�� httpstcozozosecqq\\nimmigration integration canada httpstcomckgyvvf\\nwe want controlled immigration that contributes positively to the uk economy same as australia amp canada httpstcomyliuoes\\nis the new manitoba immigration fee a head tax httpstcolsgcvle\\ncanada immigration profit influence modernistic delhi yet abhinav xkofy httpstcobecgusyi\\ncanada immigration minister to ���substantially increase  immigration numbers httpstconefwmraa httpstcocyipzrv\\nm��me les usapays dimmigration par excellence contr��le rigoureusement limmigration et acc��s �� la greencard�� httpstcoihpvhwbag\\nshawhelp what changes should be made to canadas immigration laws due to the influx of immigration and violence\\nl��immigration irr��guli��re au canada d��cortiqu��e en  questions httpstcofutoazf\\nlimmigration irr��guli��re au canada d��cortiqu��e en  questions  httpstcouibsezoqas httpstcojdevjoix httpstcoxxdeigdbu\\nwill media ask the liberals if they actually have a solid plan for canada ��� from my view  immigration out of c�� httpstcoyagwmzecp\\ndan murray of��immigration watch canada is xenophobic racist fearmongering liar racism canada cdnpoli hatecrime�� httpstcokwzcsvyxm\\nle canada lance une vaste campagne dimmigration pour faire face �� son besoin de main d��uvre httpstcokxdfmgtzzn\\nl��immigration irr��guli��re au canada d��cortiqu��e en ��questions httpstcoshuokkig\\ncanadidly ive read the immigration laws of canada much stricter than the us\\ncanada immigration website traffic surges and crashes in wake of trump fasttrafficsitetrafficwebsitetraffic httpstcozrljjnkc\\nmr knowall of canada immigration httpstcowtqkqdiki\\nmove to canada ladymadonna oh immigration rules you cant httpstcolievhoa\\nonthisday annette toft becomes canadas  millionth immigrant since  do you know your familys immigration st�� httpstcouvruwerb\\ntheeconomist profiles canadas open immigration policies amp how they contribute to our economic success�� httpstcokeey\\nhundreds may lose canadian citizenship resident status because of one corrupt immigration consultant httpstcoxifoexi\\nimmigration for canada without india an compassionate handle deyfy\\njamaican immigrants canada\\n\\nhttpstcovcmfygadr\\n\\nstatistics immigration\\nmexican visa lift expected to cost canada m over a decade httpstcoifrhtij\\nare people still moving to canada  oh thats right they have real immigration laws and its�� httpstcocobfmxlg\\nhere are more details on the richmond bc immigration consultant sunny wang who was sentenced to  years in httpstcoyxhwsro\\ni added a video to a youtube playlist httpstcocneywnx funny talking of haryanavi jat with canada immigration girl agent\\nmexicans can now travel visafree to canada httpstcoecxhoros httpstcorqrrnebcg\\nl��immigration irr��guli��re au canada d��cortiqu��e en ��questions httpstcodkpukywmak\\nsweetnessshawnb hes the pos that ramped up immigration for canada among other globalist policies\\ncanada lifted visa requirements to mexico as of dec   thoughts visa immigration\\nhuffingtonpost people keep praising canada and canada has way stricter immigration laws then us they willl boot your liberal american ass\\n\\n\\nresearch paper\\nneural network models have shown their promising opportunities for multitask\\nlearning which focus on learning the shared layers to extract the common and\\ntaskinvariant features however in most existing approaches the extracted shared\\nfeatures are prone to be contaminated by taskspecific features or the noise brought\\nby other tasks in this paper we propose an adversarial multitask learning framework\\nalleviating the shared and private latent feature spaces from interfering with\\neach other we conduct extensive experiments on  different text classification\\ntasks which demonstrates the benefits of our approach besides we show that the\\nshared knowledge learned by our proposed model can be regarded as offtheshelf\\nknowledge and easily transferred to new tasks\\n\\nmultitask learning is an effective approach to improve the performance of a single task with\\nthe help of other related tasks recently neuralbased models for multitask learning have become\\nvery popular ranging from computer vision misra et al  zhang et al  to natural\\nlanguage processing collobert andweston  luong et al  since they provide a convenient\\nway of combining information from multiple tasks\\nhowever most existing work on multitask learning liu et al cb attempts to divide the\\nfeatures of different tasks into private and shared spaces merely based on whether parameters of some components should be shared as shown in figure a the general sharedprivate model introduces\\ntwo feature spaces for any task one is used to store taskdependent features the other is\\nused to capture shared features the major limitation of this framework is that the shared feature\\nspace could contain some unnecessary taskspecific features while some sharable features\\ncould also be mixed in private space suffering from feature redundancy\\ntaking the following two sentences as examples which are extracted from two different sentiment\\nclassification tasks movie reviews and baby products reviews\\nthe infantile cart is simple and easy to use this kind of humour is infantile and boring\\nthe word �infantile� indicates negative sentiment in movie task while it is neutral in baby task\\nhowever the general sharedprivate model could place the taskspecific word �infantile� in a\\nshared space leaving potential hazards for other tasks additionally the capacity of shared space\\ncould also be wasted by some unnecessary features\\nto address this problem in this paper we propose an adversarial multitask framework in\\nwhich the shared and private feature spaces are in herently disjoint by introducing orthogonality constraintsspecifically we design a generic shared private learning framework to model the text sequence'"
      ]
     },
     "execution_count": 42,
     "metadata": {},
     "output_type": "execute_result"
    }
   ],
   "source": [
    "import string\n",
    "nopunc_data = nonum_data.translate(str.maketrans(\"\",\"\", string.punctuation))\n",
    "nopunc_data"
   ]
  },
  {
   "cell_type": "markdown",
   "metadata": {},
   "source": [
    "### Removing trailing and ending whitespaces"
   ]
  },
  {
   "cell_type": "code",
   "execution_count": 52,
   "metadata": {
    "collapsed": true
   },
   "outputs": [
    {
     "data": {
      "text/plain": [
       "'student course feedback\\n\\nhonestly last seven lectures are good lectures are understandable lecture slides are very useful to selfstudy also the given opportunity to ask questions from the lecturer is appreciative \\ngood  \\nbr please do recap at class starting its better for us\\nbr sometimes teaching speed is very high\\nbr \\nbr thanks  \\nbr  \\nthe lectures are goodbut a bit speeda in class working activity is a must oneso please take another hour in thursdays madame\\n\\nbr we can hear your voice clearly and can understand the things you teach presentation slides also good source to refer  lf you can do more example questions within the classroom and it will help us to understand the principles well \\nbr \\nlectures was well structured and well organized it was easy to understand lecture slides and labs were also well organized \\nlectures were good understandable \\nthe lecture slides were well organized and the examples done in the class helped a lot to learn this new language and also the principles of oop motivated to well would have been better if we discussed more about the solutions of coding exercisers   \\ni think i learned a lot from the codes you write in the board when i compare my codes with yours i can learn about my mistakes and good coding practices that i should follow there fore i think it would be great if we can discuss more examples in the class\\nmadam explained  the oop concepts clearly with exampleslectures were interestingwe want more scenario examples and answers with explanations in future\\ni satisfy about first  lectures that way of teaching is really good for coming lectures too\\nlectuers are very good take good effort to make undersatand every student in the room very helpfull \\ni was able to obtain a clear picture about oop and its concepts \\nlecture slides explanations were very clear\\nbr its very good to letting ask questions and explain again with suitable examples\\nbr sometimes some codes on white board were unclear at the back\\nbr overall very good\\nbr \\nthe lectures were good and clear and they werent too fast writing code was somewhat confusing because i didnt know java before \\nactually teaching is very good and can understand easily the concepts by examples which are given in the classit will be more helpful if provide solved questions as well thankyou\\n\\n\\ntwitter data\\n\\nreminds me of liberal immigration fraudster monsef avoiding deportation from canada cdnpoli lpc cpcldr�� httpstcozozosecqq\\nimmigration integration canada httpstcomckgyvvf\\nwe want controlled immigration that contributes positively to the uk economy same as australia amp canada httpstcomyliuoes\\nis the new manitoba immigration fee a head tax httpstcolsgcvle\\ncanada immigration profit influence modernistic delhi yet abhinav xkofy httpstcobecgusyi\\ncanada immigration minister to ���substantially increase  immigration numbers httpstconefwmraa httpstcocyipzrv\\nm��me les usapays dimmigration par excellence contr��le rigoureusement limmigration et acc��s �� la greencard�� httpstcoihpvhwbag\\nshawhelp what changes should be made to canadas immigration laws due to the influx of immigration and violence\\nl��immigration irr��guli��re au canada d��cortiqu��e en  questions httpstcofutoazf\\nlimmigration irr��guli��re au canada d��cortiqu��e en  questions  httpstcouibsezoqas httpstcojdevjoix httpstcoxxdeigdbu\\nwill media ask the liberals if they actually have a solid plan for canada ��� from my view  immigration out of c�� httpstcoyagwmzecp\\ndan murray of��immigration watch canada is xenophobic racist fearmongering liar racism canada cdnpoli hatecrime�� httpstcokwzcsvyxm\\nle canada lance une vaste campagne dimmigration pour faire face �� son besoin de main d��uvre httpstcokxdfmgtzzn\\nl��immigration irr��guli��re au canada d��cortiqu��e en ��questions httpstcoshuokkig\\ncanadidly ive read the immigration laws of canada much stricter than the us\\ncanada immigration website traffic surges and crashes in wake of trump fasttrafficsitetrafficwebsitetraffic httpstcozrljjnkc\\nmr knowall of canada immigration httpstcowtqkqdiki\\nmove to canada ladymadonna oh immigration rules you cant httpstcolievhoa\\nonthisday annette toft becomes canadas  millionth immigrant since  do you know your familys immigration st�� httpstcouvruwerb\\ntheeconomist profiles canadas open immigration policies amp how they contribute to our economic success�� httpstcokeey\\nhundreds may lose canadian citizenship resident status because of one corrupt immigration consultant httpstcoxifoexi\\nimmigration for canada without india an compassionate handle deyfy\\njamaican immigrants canada\\n\\nhttpstcovcmfygadr\\n\\nstatistics immigration\\nmexican visa lift expected to cost canada m over a decade httpstcoifrhtij\\nare people still moving to canada  oh thats right they have real immigration laws and its�� httpstcocobfmxlg\\nhere are more details on the richmond bc immigration consultant sunny wang who was sentenced to  years in httpstcoyxhwsro\\ni added a video to a youtube playlist httpstcocneywnx funny talking of haryanavi jat with canada immigration girl agent\\nmexicans can now travel visafree to canada httpstcoecxhoros httpstcorqrrnebcg\\nl��immigration irr��guli��re au canada d��cortiqu��e en ��questions httpstcodkpukywmak\\nsweetnessshawnb hes the pos that ramped up immigration for canada among other globalist policies\\ncanada lifted visa requirements to mexico as of dec   thoughts visa immigration\\nhuffingtonpost people keep praising canada and canada has way stricter immigration laws then us they willl boot your liberal american ass\\n\\n\\nresearch paper\\nneural network models have shown their promising opportunities for multitask\\nlearning which focus on learning the shared layers to extract the common and\\ntaskinvariant features however in most existing approaches the extracted shared\\nfeatures are prone to be contaminated by taskspecific features or the noise brought\\nby other tasks in this paper we propose an adversarial multitask learning framework\\nalleviating the shared and private latent feature spaces from interfering with\\neach other we conduct extensive experiments on  different text classification\\ntasks which demonstrates the benefits of our approach besides we show that the\\nshared knowledge learned by our proposed model can be regarded as offtheshelf\\nknowledge and easily transferred to new tasks\\n\\nmultitask learning is an effective approach to improve the performance of a single task with\\nthe help of other related tasks recently neuralbased models for multitask learning have become\\nvery popular ranging from computer vision misra et al  zhang et al  to natural\\nlanguage processing collobert andweston  luong et al  since they provide a convenient\\nway of combining information from multiple tasks\\nhowever most existing work on multitask learning liu et al cb attempts to divide the\\nfeatures of different tasks into private and shared spaces merely based on whether parameters of some components should be shared as shown in figure a the general sharedprivate model introduces\\ntwo feature spaces for any task one is used to store taskdependent features the other is\\nused to capture shared features the major limitation of this framework is that the shared feature\\nspace could contain some unnecessary taskspecific features while some sharable features\\ncould also be mixed in private space suffering from feature redundancy\\ntaking the following two sentences as examples which are extracted from two different sentiment\\nclassification tasks movie reviews and baby products reviews\\nthe infantile cart is simple and easy to use this kind of humour is infantile and boring\\nthe word �infantile� indicates negative sentiment in movie task while it is neutral in baby task\\nhowever the general sharedprivate model could place the taskspecific word �infantile� in a\\nshared space leaving potential hazards for other tasks additionally the capacity of shared space\\ncould also be wasted by some unnecessary features\\nto address this problem in this paper we propose an adversarial multitask framework in\\nwhich the shared and private feature spaces are in herently disjoint by introducing orthogonality constraintsspecifically we design a generic shared private learning framework to model the text sequence'"
      ]
     },
     "execution_count": 52,
     "metadata": {},
     "output_type": "execute_result"
    }
   ],
   "source": [
    "stripped_data = nopunc_data.strip()\n",
    "stripped_data"
   ]
  },
  {
   "cell_type": "markdown",
   "metadata": {},
   "source": [
    "### Tokenization"
   ]
  },
  {
   "cell_type": "code",
   "execution_count": null,
   "metadata": {},
   "outputs": [],
   "source": []
  }
 ],
 "metadata": {
  "kernelspec": {
   "display_name": "python38test",
   "language": "python",
   "name": "python38test"
  },
  "language_info": {
   "codemirror_mode": {
    "name": "ipython",
    "version": 3
   },
   "file_extension": ".py",
   "mimetype": "text/x-python",
   "name": "python",
   "nbconvert_exporter": "python",
   "pygments_lexer": "ipython3",
   "version": "3.8.3"
  }
 },
 "nbformat": 4,
 "nbformat_minor": 4
}
